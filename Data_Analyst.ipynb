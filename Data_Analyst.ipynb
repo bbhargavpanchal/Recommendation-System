{
  "nbformat": 4,
  "nbformat_minor": 0,
  "metadata": {
    "colab": {
      "provenance": [],
      "authorship_tag": "ABX9TyM+8EKNFsFeJDX2VXqagagT",
      "include_colab_link": true
    },
    "kernelspec": {
      "name": "python3",
      "display_name": "Python 3"
    },
    "language_info": {
      "name": "python"
    }
  },
  "cells": [
    {
      "cell_type": "markdown",
      "metadata": {
        "id": "view-in-github",
        "colab_type": "text"
      },
      "source": [
        "<a href=\"https://colab.research.google.com/github/bbhargavpanchal/Recommendation-System/blob/main/Data_Analyst.ipynb\" target=\"_parent\"><img src=\"https://colab.research.google.com/assets/colab-badge.svg\" alt=\"Open In Colab\"/></a>"
      ]
    },
    {
      "cell_type": "markdown",
      "source": [
        "# **Option 3: Recommendation** \n",
        "Complexity: Intermediate \n",
        "\n",
        "Task: Recommend item to the given customer id for a given date.\n",
        "\n",
        "User Story: User should be able to provide a Customer ID and Date, and program should be able to recommend item to be purchased.\n",
        "\n",
        "Hint: Approach would be given importance over result"
      ],
      "metadata": {
        "id": "M_5114G46AOI"
      }
    },
    {
      "cell_type": "code",
      "source": [
        "import pandas as pd\n",
        "import numpy as np\n",
        "\n",
        "def recommend_items(data, customer_id, invoice_date, n=5):\n",
        "  # Filter the data to only include the customer's past purchases\n",
        "  customer_data = data[data['CustomerID'] == customer_id]\n",
        "  \n",
        "  # Create a frequency matrix to count the number of times each item has been purchased by the customer\n",
        "  item_frequency = customer_data.groupby(['StockCode'])['Quantity'].sum().reset_index()\n",
        "  item_frequency.sort_values(by='Quantity', ascending=False, inplace=True)\n",
        "  \n",
        "  # Select the top N items that the customer has purchased most frequently\n",
        "  top_n_items = item_frequency.head(n)\n",
        "  \n",
        "  # Return the StockCodes of the top N items\n",
        "  return top_n_items['StockCode'].tolist()\n",
        "\n",
        "# Load the sample data\n",
        "data = pd.read_csv('/content/OnlineRetail.csv')\n",
        "\n",
        "# Example usage\n",
        "customer_id = int(input(\"Enter customer ID: \"))\n",
        "invoice_date = input(\"Enter invoice date (DD-MM-YYYY): \")\n",
        "recommended_items = recommend_items(data, customer_id, invoice_date)\n",
        "print(\"Recommended items:\", recommended_items)\n"
      ],
      "metadata": {
        "colab": {
          "base_uri": "https://localhost:8080/"
        },
        "id": "S4Z1Bkm55vLA",
        "outputId": "78fb7783-3309-4c37-f0e7-7a4316989191"
      },
      "execution_count": null,
      "outputs": [
        {
          "output_type": "stream",
          "name": "stdout",
          "text": [
            "Enter customer ID: 17850\n",
            "Enter invoice date (DD-MM-YYYY): 12/1/2010\n",
            "Recommended items: ['85123A', '71053', '84029G', '84406B', '22633']\n"
          ]
        }
      ]
    },
    {
      "cell_type": "markdown",
      "source": [
        "## **Improved version**"
      ],
      "metadata": {
        "id": "YsZi2q516NH-"
      }
    },
    {
      "cell_type": "code",
      "source": [
        "import pandas as pd\n",
        "import numpy as np\n",
        "\n",
        "def recommend_items(data, customer_id, invoice_date, n=5):\n",
        "  # Filter the data to only include the customer's past purchases\n",
        "  customer_data = data[data['CustomerID'] == customer_id]\n",
        "  \n",
        "  # Create a frequency matrix to count the number of times each item has been purchased by the customer\n",
        "  item_frequency = customer_data.groupby(['StockCode'])['Quantity'].sum().reset_index()\n",
        "  item_frequency.sort_values(by='Quantity', ascending=False, inplace=True)\n",
        "  \n",
        "  # Select the top N items that the customer has purchased most frequently\n",
        "  top_n_items = item_frequency.head(n)\n",
        "  \n",
        "  # Return the StockCodes of the top N items\n",
        "  recommended_items = top_n_items['StockCode'].tolist()\n",
        "  \n",
        "  # Get the data for the recommended items\n",
        "  recommended_data = data[data['StockCode'].isin(recommended_items)]\n",
        "  \n",
        "  # Print the recommended items along with their other attributes\n",
        "  print(\"\\nRecommended items:\")\n",
        "  for item in recommended_items:\n",
        "    item_data = recommended_data[recommended_data['StockCode'] == item]\n",
        "    print(\"-----------------------------------------\")\n",
        "    print(\"StockCode:\", item)\n",
        "    print(\"Description:\", item_data['Description'].values[0])\n",
        "    print(\"Quantity:\", item_data['Quantity'].sum())\n",
        "    print(\"UnitPrice:\", item_data['UnitPrice'].values[0])\n",
        "    print()\n",
        "    print(\"InvoiceNo:\", item_data['InvoiceNo'].values[0])\n",
        "    print(\"InvoiceDate:\", item_data['InvoiceDate'].values[0])\n",
        "    print()\n",
        "    print(\"CustomerID:\", item_data['CustomerID'].values[0])\n",
        "    print(\"Country:\", item_data['Country'].values[0])\n",
        "    print(\"-----------------------------------------\")\n",
        "  \n",
        "# Load the sample data\n",
        "data = pd.read_csv('/content/OnlineRetail.csv')\n",
        "\n",
        "# Example usage\n",
        "customer_id = int(input(\"Enter customer ID: \"))\n",
        "invoice_date = input(\"Enter invoice date (DD-MM-YYYY): \")\n",
        "recommend_items(data, customer_id, invoice_date)\n"
      ],
      "metadata": {
        "colab": {
          "base_uri": "https://localhost:8080/"
        },
        "id": "eqdckk_e6L7P",
        "outputId": "4b456aba-f736-4a3e-a4d3-c5206da8e670"
      },
      "execution_count": null,
      "outputs": [
        {
          "output_type": "stream",
          "name": "stdout",
          "text": [
            "Enter customer ID: 17850\n",
            "Enter invoice date (DD-MM-YYYY): 12/1/2010\n",
            "\n",
            "Recommended items:\n",
            "-----------------------------------------\n",
            "StockCode: 85123A\n",
            "Description: WHITE HANGING HEART T-LIGHT HOLDER\n",
            "Quantity: 38830\n",
            "UnitPrice: 2.55\n",
            "\n",
            "InvoiceNo: 536365\n",
            "InvoiceDate: 12-1-10 8:26 AM\n",
            "\n",
            "CustomerID: 17850.0\n",
            "Country: United Kingdom\n",
            "-----------------------------------------\n",
            "-----------------------------------------\n",
            "StockCode: 71053\n",
            "Description: WHITE METAL LANTERN\n",
            "Quantity: 1911\n",
            "UnitPrice: 3.39\n",
            "\n",
            "InvoiceNo: 536365\n",
            "InvoiceDate: 12-1-10 8:26 AM\n",
            "\n",
            "CustomerID: 17850.0\n",
            "Country: United Kingdom\n",
            "-----------------------------------------\n",
            "-----------------------------------------\n",
            "StockCode: 84029G\n",
            "Description: KNITTED UNION FLAG HOT WATER BOTTLE\n",
            "Quantity: 3589\n",
            "UnitPrice: 3.39\n",
            "\n",
            "InvoiceNo: 536365\n",
            "InvoiceDate: 12-1-10 8:26 AM\n",
            "\n",
            "CustomerID: 17850.0\n",
            "Country: United Kingdom\n",
            "-----------------------------------------\n",
            "-----------------------------------------\n",
            "StockCode: 84406B\n",
            "Description: CREAM CUPID HEARTS COAT HANGER\n",
            "Quantity: 1422\n",
            "UnitPrice: 2.75\n",
            "\n",
            "InvoiceNo: 536365\n",
            "InvoiceDate: 12-1-10 8:26 AM\n",
            "\n",
            "CustomerID: 17850.0\n",
            "Country: United Kingdom\n",
            "-----------------------------------------\n",
            "-----------------------------------------\n",
            "StockCode: 22633\n",
            "Description: HAND WARMER UNION JACK\n",
            "Quantity: 4788\n",
            "UnitPrice: 1.85\n",
            "\n",
            "InvoiceNo: 536366\n",
            "InvoiceDate: 12-1-10 8:28 AM\n",
            "\n",
            "CustomerID: 17850.0\n",
            "Country: United Kingdom\n",
            "-----------------------------------------\n"
          ]
        }
      ]
    }
  ]
}